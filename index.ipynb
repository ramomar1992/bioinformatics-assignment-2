{
 "cells": [
  {
   "cell_type": "code",
   "execution_count": 4,
   "metadata": {},
   "outputs": [],
   "source": [
    "import numpy as np\n",
    "import pandas as pd\n",
    "\n",
    "# Read in the sample and run metadata using the pandas function read_csv() into a variable called sampleruns\n",
    "sampleruns = pd.read_csv('./ltee_sampleruns.csv')"
   ]
  },
  {
   "cell_type": "code",
   "execution_count": 5,
   "metadata": {},
   "outputs": [
    {
     "name": "stdout",
     "output_type": "stream",
     "text": [
      "(264, 11)\n"
     ]
    }
   ],
   "source": [
    "# Check the number of rows and columns\n",
    "print(sampleruns.shape)"
   ]
  },
  {
   "cell_type": "code",
   "execution_count": 6,
   "metadata": {},
   "outputs": [
    {
     "name": "stdout",
     "output_type": "stream",
     "text": [
      "RangeIndex(start=0, stop=264, step=1)\n"
     ]
    }
   ],
   "source": [
    "print(sampleruns.index)"
   ]
  },
  {
   "cell_type": "code",
   "execution_count": 7,
   "metadata": {},
   "outputs": [
    {
     "name": "stdout",
     "output_type": "stream",
     "text": [
      "Index(['Population', 'Generation', 'Strain ID', 'Mutator', 'Reference',\n",
      "       'Facility', 'Accession', 'Read Type', 'Read Length', 'Sequencing Depth',\n",
      "       'Analysis Notes'],\n",
      "      dtype='object')\n"
     ]
    }
   ],
   "source": [
    "print(sampleruns.columns)"
   ]
  },
  {
   "cell_type": "code",
   "execution_count": 8,
   "metadata": {},
   "outputs": [
    {
     "name": "stdout",
     "output_type": "stream",
     "text": [
      "  Population  Generation Strain ID Mutator   Reference   Facility   Accession  \\\n",
      "0      Ara+1         500   REL768A    None  This study  Genoscope  SRR2584408   \n",
      "1      Ara+1         500   REL768B    None  This study  Genoscope  SRR2584409   \n",
      "2      Ara+1        1000   REL958A    None  This study  Genoscope  SRR2584410   \n",
      "3      Ara+1        1000   REL958B    None  This study  Genoscope  SRR2584411   \n",
      "4      Ara+1        1500  REL1062A    None  This study  Genoscope  SRR2584438   \n",
      "\n",
      "  Read Type  Read Length  Sequencing Depth Analysis Notes  \n",
      "0    single           36         70.241277            NaN  \n",
      "1    single           36         41.136778            NaN  \n",
      "2    single           36         33.226052            NaN  \n",
      "3    single           36         34.589932            NaN  \n",
      "4    single           36         40.342099            NaN  \n"
     ]
    }
   ],
   "source": [
    "# View the first few rows\n",
    "print(sampleruns.head())"
   ]
  },
  {
   "cell_type": "code",
   "execution_count": 9,
   "metadata": {},
   "outputs": [
    {
     "name": "stdout",
     "output_type": "stream",
     "text": [
      "<class 'pandas.core.frame.DataFrame'>\n",
      "RangeIndex: 264 entries, 0 to 263\n",
      "Data columns (total 11 columns):\n",
      " #   Column            Non-Null Count  Dtype  \n",
      "---  ------            --------------  -----  \n",
      " 0   Population        264 non-null    object \n",
      " 1   Generation        264 non-null    int64  \n",
      " 2   Strain ID         264 non-null    object \n",
      " 3   Mutator           264 non-null    object \n",
      " 4   Reference         264 non-null    object \n",
      " 5   Facility          264 non-null    object \n",
      " 6   Accession         264 non-null    object \n",
      " 7   Read Type         264 non-null    object \n",
      " 8   Read Length       264 non-null    int64  \n",
      " 9   Sequencing Depth  264 non-null    float64\n",
      " 10  Analysis Notes    13 non-null     object \n",
      "dtypes: float64(1), int64(2), object(8)\n",
      "memory usage: 22.8+ KB\n",
      "None\n"
     ]
    }
   ],
   "source": [
    "# Look at the column data types and names\n",
    "print(sampleruns.info())"
   ]
  },
  {
   "cell_type": "code",
   "execution_count": 10,
   "metadata": {},
   "outputs": [
    {
     "name": "stdout",
     "output_type": "stream",
     "text": [
      "0       REL768A\n",
      "1       REL768B\n",
      "2       REL958A\n",
      "3       REL958B\n",
      "4      REL1062A\n",
      "         ...   \n",
      "259    REL10448\n",
      "260    REL11005\n",
      "261    REL11006\n",
      "262    REL11389\n",
      "263    REL11390\n",
      "Name: Strain ID, Length: 264, dtype: object\n"
     ]
    }
   ],
   "source": [
    "\n",
    "# Extract the column ‘Strain ID’ from the sampleruns variable, using square brackets\n",
    "strain_id = sampleruns['Strain ID']\n",
    "print(strain_id)"
   ]
  },
  {
   "cell_type": "code",
   "execution_count": 11,
   "metadata": {},
   "outputs": [
    {
     "name": "stdout",
     "output_type": "stream",
     "text": [
      "          Population  Generation Mutator   Reference   Facility   Accession  \\\n",
      "Strain ID                                                                     \n",
      "REL768A        Ara+1         500    None  This study  Genoscope  SRR2584408   \n",
      "REL768B        Ara+1         500    None  This study  Genoscope  SRR2584409   \n",
      "REL958A        Ara+1        1000    None  This study  Genoscope  SRR2584410   \n",
      "REL958B        Ara+1        1000    None  This study  Genoscope  SRR2584411   \n",
      "REL1062A       Ara+1        1500    None  This study  Genoscope  SRR2584438   \n",
      "\n",
      "          Read Type  Read Length  Sequencing Depth Analysis Notes  \n",
      "Strain ID                                                          \n",
      "REL768A      single           36         70.241277            NaN  \n",
      "REL768B      single           36         41.136778            NaN  \n",
      "REL958A      single           36         33.226052            NaN  \n",
      "REL958B      single           36         34.589932            NaN  \n",
      "REL1062A     single           36         40.342099            NaN  \n"
     ]
    }
   ],
   "source": [
    "# Set the sampleruns index (row names) to ‘Strain ID’\n",
    "sampleruns_ind = sampleruns.set_index('Strain ID')\n",
    "print(sampleruns_ind.head())"
   ]
  },
  {
   "cell_type": "code",
   "execution_count": 12,
   "metadata": {},
   "outputs": [
    {
     "name": "stdout",
     "output_type": "stream",
     "text": [
      "SRR2584409\n"
     ]
    }
   ],
   "source": [
    "# Use .loc to extract the row ‘REL768B’ and column ‘Accession’\n",
    "rel768b_accession = sampleruns_ind.loc['REL768B','Accession']\n",
    "print(rel768b_accession)"
   ]
  },
  {
   "cell_type": "code",
   "execution_count": 13,
   "metadata": {},
   "outputs": [
    {
     "name": "stdout",
     "output_type": "stream",
     "text": [
      "Population               Ara+1\n",
      "Generation                 500\n",
      "Mutator                   None\n",
      "Reference           This study\n",
      "Facility             Genoscope\n",
      "Accession           SRR2584409\n",
      "Read Type               single\n",
      "Read Length                 36\n",
      "Sequencing Depth     41.136778\n",
      "Analysis Notes             NaN\n",
      "Name: REL768B, dtype: object\n"
     ]
    }
   ],
   "source": [
    "# Use .loc again to subset the same row, but all columns\n",
    "rel768b = sampleruns_ind.loc['REL768B', :]\n",
    "print(rel768b)"
   ]
  },
  {
   "cell_type": "code",
   "execution_count": 14,
   "metadata": {},
   "outputs": [
    {
     "name": "stdout",
     "output_type": "stream",
     "text": [
      "          Read Type  Read Length\n",
      "Strain ID                       \n",
      "REL768A      single           36\n",
      "REL958A      single           36\n"
     ]
    }
   ],
   "source": [
    "# Use .loc to subset rows ‘REL768A’ and ‘REL958A’ and columns ‘Read Type’ and ‘Read Length’\n",
    "rels_type_and_length = sampleruns_ind.loc[['REL768A', 'REL958A'], ['Read Type','Read Length']]\n",
    "print(rels_type_and_length)"
   ]
  },
  {
   "cell_type": "code",
   "execution_count": 15,
   "metadata": {},
   "outputs": [
    {
     "name": "stdout",
     "output_type": "stream",
     "text": [
      "70.24127718360918\n"
     ]
    }
   ],
   "source": [
    "# Use .iloc to subset row 1, column 9\n",
    "print(sampleruns_ind.iloc[0,8])\n"
   ]
  },
  {
   "cell_type": "code",
   "execution_count": 16,
   "metadata": {},
   "outputs": [
    {
     "name": "stdout",
     "output_type": "stream",
     "text": [
      "Strain ID\n",
      "REL768B    41.136778\n",
      "REL958A    33.226052\n",
      "REL958B    34.589932\n",
      "Name: Sequencing Depth, dtype: float64\n"
     ]
    }
   ],
   "source": [
    "# Use .iloc to subset rows 2-4, column 9\n",
    "print(sampleruns_ind.iloc[1:4, 8])"
   ]
  },
  {
   "cell_type": "code",
   "execution_count": 22,
   "metadata": {},
   "outputs": [
    {
     "name": "stdout",
     "output_type": "stream",
     "text": [
      "  Population Strain ID Mutator\n",
      "0      Ara+1   REL768A    None\n",
      "1      Ara+1   REL768B    None\n",
      "2      Ara+1   REL958A    None\n",
      "3      Ara+1   REL958B    None\n",
      "4      Ara+1  REL1062A    None\n"
     ]
    }
   ],
   "source": [
    "# Run the following command and see which rows/column are subset:\n",
    "# sampleruns.iloc[0:5, [True, False, True, True, False, False, False, False, False, False, False]]\n",
    "print(sampleruns.iloc[0:5, [True, False, True, True, False, False, False, False, False, False, False]])\n"
   ]
  },
  {
   "cell_type": "code",
   "execution_count": 23,
   "metadata": {},
   "outputs": [
    {
     "name": "stdout",
     "output_type": "stream",
     "text": [
      "amax      1026.249751\n",
      "amin        27.803535\n",
      "mean       115.774514\n",
      "median      79.629418\n",
      "Name: Sequencing Depth, dtype: float64\n"
     ]
    }
   ],
   "source": [
    "\n",
    "# Calculate and report the following metrics to 2 decimal places on the sampleruns\n",
    "# “Sequencing Depth” column:\n",
    "# a. Mean\n",
    "# b. Median\n",
    "# d. Minimum\n",
    "# e. Maximum\n",
    "report = sampleruns['Sequencing Depth'].agg([np.max, np.min, np.mean, np.median])\n",
    "print(report)"
   ]
  },
  {
   "cell_type": "code",
   "execution_count": 24,
   "metadata": {},
   "outputs": [],
   "source": [
    "\n",
    "# Read in the cell size dataset using the pandas function read_csv() with the appropriate delimiter into a variable called cellsize?\n",
    "cellsize = pd.read_csv('./ltee_cell_size.tsv', sep='\\t')"
   ]
  },
  {
   "cell_type": "code",
   "execution_count": 25,
   "metadata": {},
   "outputs": [
    {
     "name": "stdout",
     "output_type": "stream",
     "text": [
      "Index(['Gen', 'A-1', 'A-2', 'A-3', 'A-4', 'A-5', 'A-6', 'A+1', 'A+2', 'A+3',\n",
      "       'A+4', 'A+5', 'A+6'],\n",
      "      dtype='object')\n"
     ]
    }
   ],
   "source": [
    "# Check column names of this data frame, we will want to convert the column names for easier merging with the sampleruns data frame.\n",
    "print(cellsize.columns)"
   ]
  },
  {
   "cell_type": "code",
   "execution_count": 26,
   "metadata": {},
   "outputs": [
    {
     "name": "stdout",
     "output_type": "stream",
     "text": [
      "   Generation   Ara-1   Ara-2   Ara-3   Ara-4   Ara-5   Ara-6   Ara+1   Ara+2  \\\n",
      "0           0  0.3725  0.3725  0.3725  0.3725  0.3725  0.3725  0.3725  0.3725   \n",
      "1         500  0.4850  0.5100  0.4500  0.5150  0.5300  0.4550  0.4800  0.4700   \n",
      "2        1000  0.5150  0.6250  0.6250  0.5800  0.6300  0.5150  0.4950  0.5550   \n",
      "3        2000  0.6000  0.6600  0.6300  0.7000  0.7050  0.5450  0.5800  0.6750   \n",
      "4        5000  0.6650  0.9450  0.7000  0.7650  0.9150  0.6550  0.5950  0.8900   \n",
      "5        8000  0.6700  0.9400  0.6950  0.8150  0.8700  0.6750  0.6950  0.8950   \n",
      "6        9000  0.6850  0.9750  0.6850  0.8100  0.8800  0.6600  0.7350  0.9200   \n",
      "7        9500  0.6700  0.9350  0.6850  0.7350  0.8500  0.6850  0.7200  0.9400   \n",
      "8       10000  0.6700  0.8450  0.7000  0.7600  0.7750  0.6550  0.7050  1.1000   \n",
      "\n",
      "    Ara+3   Ara+4   Ara+5   Ara+6  \n",
      "0  0.3725  0.3725  0.3725  0.3725  \n",
      "1  0.4700  0.4850  0.5250  0.4600  \n",
      "2  0.5750  0.4950  0.5850  0.5850  \n",
      "3  0.6450  0.6750  0.6750  0.6400  \n",
      "4  0.8500  0.6500  0.7250  0.7350  \n",
      "5  0.9750  0.7500  0.8350  1.0800  \n",
      "6  0.9850  0.7900  0.8900  1.0200  \n",
      "7  0.9650  0.8350  0.8950  0.9650  \n",
      "8  0.8950  0.8450  0.8100  1.0150  \n"
     ]
    }
   ],
   "source": [
    "# Convert the column names using this command:\n",
    "# cellsize.columns = (['Generation'] + ['Ara-{}'.format(n) for n in range(1,7)] + ['Ara+{}'.format(n) for n in range(1,7)])\n",
    "cellsize.columns = (['Generation'] + ['Ara-{}'.format(n) for n in range(1,7)] + ['Ara+{}'.format(n) for n in range(1,7)])\n",
    "print(cellsize)"
   ]
  },
  {
   "cell_type": "code",
   "execution_count": 27,
   "metadata": {},
   "outputs": [
    {
     "name": "stdout",
     "output_type": "stream",
     "text": [
      "     Generation Population  Cell Size\n",
      "0             0      Ara-1     0.3725\n",
      "1           500      Ara-1     0.4850\n",
      "2          1000      Ara-1     0.5150\n",
      "3          2000      Ara-1     0.6000\n",
      "4          5000      Ara-1     0.6650\n",
      "..          ...        ...        ...\n",
      "103        5000      Ara+6     0.7350\n",
      "104        8000      Ara+6     1.0800\n",
      "105        9000      Ara+6     1.0200\n",
      "106        9500      Ara+6     0.9650\n",
      "107       10000      Ara+6     1.0150\n",
      "\n",
      "[108 rows x 3 columns]\n"
     ]
    }
   ],
   "source": [
    "# Convert your cellsize dataframe from wide to long format and rename the columns with these commands:\n",
    "# cellsize = pd.melt(cellsize, id_vars=cellsize.columns[0], value_vars=cellsize.columns[1:14].tolist())\n",
    "# cellsize.columns=[\"Generation\", \"Population\", \"Cell Size\"]\n",
    "cellsize = pd.melt(cellsize, id_vars=cellsize.columns[0], value_vars=cellsize.columns[1:14].tolist())\n",
    "cellsize.columns=[\"Generation\", \"Population\", \"Cell Size\"]\n",
    "print(cellsize)"
   ]
  },
  {
   "cell_type": "code",
   "execution_count": 28,
   "metadata": {},
   "outputs": [],
   "source": [
    "# Merge the cellsize data frame with the sampleruns data frame on the ‘Generation’ and ‘Population’ variables to a variable called ltee\n"
   ]
  },
  {
   "cell_type": "code",
   "execution_count": null,
   "metadata": {},
   "outputs": [],
   "source": []
  }
 ],
 "metadata": {
  "interpreter": {
   "hash": "b0fa6594d8f4cbf19f97940f81e996739fb7646882a419484c72d19e05852a7e"
  },
  "kernelspec": {
   "display_name": "Python 3.9.10 64-bit",
   "language": "python",
   "name": "python3"
  },
  "language_info": {
   "codemirror_mode": {
    "name": "ipython",
    "version": 3
   },
   "file_extension": ".py",
   "mimetype": "text/x-python",
   "name": "python",
   "nbconvert_exporter": "python",
   "pygments_lexer": "ipython3",
   "version": "3.9.10"
  },
  "orig_nbformat": 4
 },
 "nbformat": 4,
 "nbformat_minor": 2
}
